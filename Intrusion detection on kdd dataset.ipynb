{
  "nbformat": 4,
  "nbformat_minor": 0,
  "metadata": {
    "colab": {
      "name": "Ai for SC V3.ipynb",
      "provenance": [],
      "collapsed_sections": [],
      "authorship_tag": "ABX9TyNszEN9ySD1rOPJm6ZA9dBv",
      "include_colab_link": true
    },
    "kernelspec": {
      "display_name": "Python 3",
      "name": "python3"
    },
    "language_info": {
      "name": "python"
    }
  },
  "cells": [
    {
      "cell_type": "markdown",
      "metadata": {
        "id": "view-in-github",
        "colab_type": "text"
      },
      "source": [
        "<a href=\"https://colab.research.google.com/github/eslamahmed235/Multiautoencoder-Intrusion-Detection/blob/master/Intrusion%20detection%20on%20kdd%20dataset.ipynb\" target=\"_parent\"><img src=\"https://colab.research.google.com/assets/colab-badge.svg\" alt=\"Open In Colab\"/></a>"
      ]
    },
    {
      "cell_type": "markdown",
      "metadata": {
        "id": "wLbvg_s0G9AP"
      },
      "source": [
        "**Assignment 1** <br>\n",
        "Ai For Cyber Security ELG7186[EG] \n",
        "\n",
        "---\n",
        "Name: **Eslam Mahmoud** <br>\n",
        "\n",
        "Email: **emahm025@uottawa.ca** <br>\n",
        "ID: **300267020** <br>\n",
        "\n",
        "\n",
        "---\n",
        "Top Score on Public Leaderboard: **0.95732** <br>\n",
        "Top Score on Private Leaderboard: **0.96538** \n"
      ]
    },
    {
      "cell_type": "markdown",
      "metadata": {
        "id": "CI1e_EtFJSP-"
      },
      "source": [
        "# **this Code for the Top Score submission on Kaggle for Public and Private Leaderboard**\n",
        "\n"
      ]
    },
    {
      "cell_type": "markdown",
      "metadata": {
        "id": "deTmZtl4CVb_"
      },
      "source": [
        "## [1] Import Libraries"
      ]
    },
    {
      "cell_type": "code",
      "metadata": {
        "id": "0ziij0Pz96T1"
      },
      "source": [
        "import numpy as np\n",
        "import pandas as pd\n",
        "import matplotlib.pyplot as plt\n",
        "from sklearn.preprocessing import LabelEncoder,OneHotEncoder\n",
        "from sklearn import preprocessing\n",
        "from sklearn.feature_selection import RFE\n",
        "from sklearn.tree import DecisionTreeClassifier\n",
        "from sklearn.model_selection import train_test_split # Import train_test_split function\n",
        "import warnings\n",
        "\n",
        "import os\n",
        "import pandas as pd\n",
        "import numpy as np\n",
        "import matplotlib.pyplot as plt\n",
        "import seaborn as sns\n",
        "import time\n",
        "from sklearn.tree import DecisionTreeClassifier\n",
        "from collections import Counter\n",
        "from sklearn.ensemble import RandomForestClassifier\n",
        "from sklearn.metrics import accuracy_score, f1_score\n",
        "\n"
      ],
      "execution_count": null,
      "outputs": []
    },
    {
      "cell_type": "markdown",
      "metadata": {
        "id": "DhA-3nLyBwNg"
      },
      "source": [
        "## [2] load Train and Test Dataset from local path"
      ]
    },
    {
      "cell_type": "code",
      "metadata": {
        "colab": {
          "base_uri": "https://localhost:8080/"
        },
        "id": "u9UVSQYQ-Brb",
        "outputId": "aba708ad-d149-4fcb-ccb7-21d7efe2a945"
      },
      "source": [
        "dataset_train  = pd.read_csv(\"/content/traindata.csv\")\n",
        "dataset_test  = pd.read_csv(\"/content/testdata.csv\")\n",
        "\n",
        "print('Dimensions of the Training set:',dataset_train.shape)\n",
        "print('Dimensions of the Testing set:',dataset_test.shape)\n"
      ],
      "execution_count": null,
      "outputs": [
        {
          "output_type": "stream",
          "name": "stdout",
          "text": [
            "Dimensions of the Training set: (23002, 44)\n",
            "Dimensions of the Testing set: (22501, 43)\n"
          ]
        }
      ]
    },
    {
      "cell_type": "markdown",
      "metadata": {
        "id": "Pxmv1D_IB-K8"
      },
      "source": [
        "## [3] Apply LabelEncoder encoding on all categorical features"
      ]
    },
    {
      "cell_type": "code",
      "metadata": {
        "id": "VqrPRcpX-EpC"
      },
      "source": [
        "\n",
        "class MultiColumnLabelEncoder:\n",
        "    def __init__(self,columns = None):\n",
        "        self.columns = columns # array of column names to encode\n",
        "\n",
        "    def fit(self,X,y=None):\n",
        "        return self # not relevant here\n",
        "\n",
        "    def transform(self,X):\n",
        "        '''\n",
        "        Transforms columns of X specified in self.columns using\n",
        "        LabelEncoder(). If no columns specified, transforms all\n",
        "        columns in X.\n",
        "        '''\n",
        "        output = X.copy()\n",
        "        if self.columns is not None:\n",
        "            for col in self.columns:\n",
        "                output[col] = LabelEncoder().fit_transform(output[col])\n",
        "        else:\n",
        "            for colname,col in output.iteritems():\n",
        "                output[colname] = LabelEncoder().fit_transform(col)\n",
        "        return output\n",
        "\n",
        "    def fit_transform(self,X,y=None):\n",
        "        return self.fit(X,y).transform(X)\n",
        "    \n",
        "    \n",
        "df = MultiColumnLabelEncoder().fit_transform(dataset_train)\n",
        "\n",
        "test_data = MultiColumnLabelEncoder().fit_transform(dataset_test)\n"
      ],
      "execution_count": null,
      "outputs": []
    },
    {
      "cell_type": "markdown",
      "metadata": {
        "id": "8gG5ega4Co9y"
      },
      "source": [
        "## [4] split data to train and validate set"
      ]
    },
    {
      "cell_type": "code",
      "metadata": {
        "id": "dxoX97KewKsG"
      },
      "source": [
        "X = df.drop(\"Class\", axis=1)\n",
        "Y = df.Class\n",
        "\n",
        "x_test = test_data\n",
        "\n",
        "X_train, X_val, y_train, y_val = train_test_split(X, Y, test_size=0.1 , random_state=145,stratify=Y)"
      ],
      "execution_count": null,
      "outputs": []
    },
    {
      "cell_type": "markdown",
      "metadata": {
        "id": "scNDDXUqCw3u"
      },
      "source": [
        "## [5] appay random forest classifier with specific parameters"
      ]
    },
    {
      "cell_type": "code",
      "metadata": {
        "colab": {
          "base_uri": "https://localhost:8080/"
        },
        "id": "aFecOrqK3DIA",
        "outputId": "1cb4f918-1291-4bf7-a287-5fae34dbf09f"
      },
      "source": [
        "#Create RandomForestClassifier Model\n",
        "Model = RandomForestClassifier( max_features=6 ,class_weight={0:1,1:90}, min_samples_split=2  , min_samples_leaf= 37\n",
        "                              ,max_depth=20, random_state=125, n_estimators=380,      )\n",
        "# train the Model\n",
        "Model = Model.fit(X_train, y_train)\n",
        "\n",
        "# predect Class on validation set\n",
        "y_val_pred = Model.predict(X_val)\n",
        "#calculate F1 Score for validation set\n",
        "acc = f1_score(y_val_pred, y_val)\n",
        "\n",
        "print(\"F1 Score for validation set = \",acc)\n"
      ],
      "execution_count": null,
      "outputs": [
        {
          "output_type": "stream",
          "name": "stdout",
          "text": [
            "F1 Score for validation set =  0.9611183923110529\n"
          ]
        }
      ]
    },
    {
      "cell_type": "markdown",
      "metadata": {
        "id": "M4aWPziEFuu0"
      },
      "source": [
        "## [6] get predicted Class for test set"
      ]
    },
    {
      "cell_type": "code",
      "metadata": {
        "colab": {
          "base_uri": "https://localhost:8080/"
        },
        "id": "p7gYfObjDhuy",
        "outputId": "fd380c8f-35ad-469e-c591-811283b784ba"
      },
      "source": [
        "# get predicted Class on test dataset\n",
        "y_test_pred = Model.predict(x_test)\n",
        "\n",
        "# count number of each class on predicted Class\n",
        "count = Counter(y_test_pred)\n",
        "\n",
        "print(count)\n",
        "print(y_test_pred)\n",
        "\n"
      ],
      "execution_count": null,
      "outputs": [
        {
          "output_type": "stream",
          "name": "stdout",
          "text": [
            "Counter({1: 12906, 0: 9595})\n",
            "[1 1 0 ... 1 0 0]\n"
          ]
        }
      ]
    },
    {
      "cell_type": "markdown",
      "metadata": {
        "id": "hqIfgaObGG1I"
      },
      "source": [
        "# [7] Save file to Submit"
      ]
    },
    {
      "cell_type": "code",
      "metadata": {
        "id": "Uu2PDLDcvzFj"
      },
      "source": [
        "result = pd.DataFrame(y_test_pred,columns=['class'])\n",
        "result.insert (0, \"ID\", range(0, len(result) ))\n",
        "\n",
        "\n",
        "result.to_csv('Submission File.csv',index=False)\n"
      ],
      "execution_count": null,
      "outputs": []
    }
  ]
}